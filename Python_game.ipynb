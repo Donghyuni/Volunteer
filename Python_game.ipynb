{
  "nbformat": 4,
  "nbformat_minor": 0,
  "metadata": {
    "colab": {
      "provenance": []
    },
    "kernelspec": {
      "name": "python3",
      "display_name": "Python 3"
    },
    "language_info": {
      "name": "python"
    }
  },
  "cells": [
    {
      "cell_type": "markdown",
      "source": [
        "1.클래스 정의: Player와 Monster 클래스\n",
        "\n",
        "```\n",
        "class Player:\n",
        "    def __init__(self, name, health, attack):\n",
        "        self.name = name\n",
        "        self.health = health\n",
        "        self.attack = attack\n",
        "```\n",
        "Player 클래스는 플레이어의 속성을 나타냅니다. __init__ 메서드는 객체가 생성될 때 호출되며, 플레이어의 이름(name), 체력(health), 공격력(attack)을 초기화합니다.\n",
        "\n",
        "\n",
        "\n",
        "```\n",
        "class Monster:\n",
        "    def __init__(self, name, health, attack):\n",
        "        self.name = name\n",
        "        self.health = health\n",
        "        self.attack = attack\n",
        "```\n",
        "Monster 클래스는 몬스터의 속성을 나타냅니다. 마찬가지로 __init__ 메서드를 사용하여 몬스터의 이름, 체력, 공격력을 초기화합니다.\n",
        "\n",
        "---\n"
      ],
      "metadata": {
        "id": "E4ZETccHsqdo"
      }
    },
    {
      "cell_type": "markdown",
      "source": [
        "2.battle 함수 정의\n",
        "\n",
        "```\n",
        "def battle(player, monster):\n",
        "    while player.health > 0 and monster.health > 0:\n",
        "        # 플레이어의 공격\n",
        "        monster.health -= player.attack\n",
        "        print(f\"{player.name}이(가) {monster.name}에게 {player.attack}의 데미지를 입힙니다. {monster.name}의 체력: {monster.health}\")\n",
        "\n",
        "        # 몬스터의 공격\n",
        "        player.health -= monster.attack\n",
        "        print(f\"{monster.name}이(가) {player.name}에게 {monster.attack}의 데미지를 입힙니다. {player.name}의 체력: {player.health}\")\n",
        "\n",
        "    if player.health <= 0:\n",
        "        print(f\"{player.name}이(가) 전투에서 패배했습니다.\")\n",
        "    else:\n",
        "        print(f\"{player.name}이(가) {monster.name}을(를) 처치했습니다!\")\n",
        "\n",
        "```\n",
        "battle 함수는 전투를 시뮬레이션하는 함수입니다. while 루프를 사용하여 플레이어와 몬스터가 살아있는 동안 전투을 계속 진행합니다. 각 루프에서 플레이어와 몬스터가 서로에게 공격을 가하고, 그 결과를 출력합니다. 전투이 끝나면 최종 결과를 출력합니다.\n",
        "\n",
        "---\n"
      ],
      "metadata": {
        "id": "19shdGW_tL_h"
      }
    },
    {
      "cell_type": "markdown",
      "source": [
        "3.플레이어와 몬스터 생성 및 전투 시작\n",
        "\n",
        "```\n",
        "# 플레이어와 몬스터 생성\n",
        "player = Player(\"플레이어\", 100, 20)\n",
        "monster = Monster(\"몬스터\", 50, 15)\n",
        "\n",
        "# 전투 시작\n",
        "battle(player, monster)\n",
        "```\n",
        "코드의 마지막 부분에서는 Player 클래스로부터 플레이어 객체를 생성하고, Monster 클래스로부터 몬스터 객체를 생성합니다. 그 후에 battle 함수를 호출하여 전투를 시작합니다.\n",
        "\n",
        "---\n"
      ],
      "metadata": {
        "id": "KFoOybnDtmuL"
      }
    },
    {
      "cell_type": "code",
      "source": [
        "import random\n",
        "\n",
        "class Player:\n",
        "    def __init__(self, name, health, attack):\n",
        "        self.name = name\n",
        "        self.health = health\n",
        "        self.attack = attack\n",
        "\n",
        "class Monster:\n",
        "    def __init__(self, name, health, attack):\n",
        "        self.name = name\n",
        "        self.health = health\n",
        "        self.attack = attack\n",
        "\n",
        "def battle(player, monster):\n",
        "    print(f\"{player.name} vs {monster.name}\")\n",
        "    while player.health > 0 and monster.health > 0:\n",
        "        # 플레이어의 공격\n",
        "        monster.health -= player.attack\n",
        "        print(f\"{player.name}이(가) {monster.name}에게 {player.attack}의 데미지를 입힙니다. {monster.name}의 체력: {monster.health}\")\n",
        "\n",
        "        # 몬스터의 공격\n",
        "        player.health -= monster.attack\n",
        "        print(f\"{monster.name}이(가) {player.name}에게 {monster.attack}의 데미지를 입힙니다. {player.name}의 체력: {player.health}\")\n",
        "\n",
        "    if player.health <= 0:\n",
        "        print(f\"{player.name}이(가) 전투에서 패배했습니다.\")\n",
        "    else:\n",
        "        print(f\"{player.name}이(가) {monster.name}을(를) 처치했습니다!\")\n",
        "\n",
        "# 플레이어와 몬스터 생성\n",
        "player = Player(\"플레이어\", 100, 20)\n",
        "monster = Monster(\"몬스터\", 50, 15)\n",
        "\n",
        "# 전투 시작\n",
        "battle(player, monster)\n"
      ],
      "metadata": {
        "colab": {
          "base_uri": "https://localhost:8080/"
        },
        "id": "fsSRf_oJ9n-i",
        "outputId": "3d0a0899-4f4b-427f-aebf-b3bb526f721d"
      },
      "execution_count": 12,
      "outputs": [
        {
          "output_type": "stream",
          "name": "stdout",
          "text": [
            "플레이어 vs 몬스터\n",
            "플레이어이(가) 몬스터에게 20의 데미지를 입힙니다. 몬스터의 체력: 30\n",
            "몬스터이(가) 플레이어에게 15의 데미지를 입힙니다. 플레이어의 체력: 85\n",
            "플레이어이(가) 몬스터에게 20의 데미지를 입힙니다. 몬스터의 체력: 10\n",
            "몬스터이(가) 플레이어에게 15의 데미지를 입힙니다. 플레이어의 체력: 70\n",
            "플레이어이(가) 몬스터에게 20의 데미지를 입힙니다. 몬스터의 체력: -10\n",
            "몬스터이(가) 플레이어에게 15의 데미지를 입힙니다. 플레이어의 체력: 55\n",
            "플레이어이(가) 몬스터을(를) 처치했습니다!\n"
          ]
        }
      ]
    }
  ]
}